{
 "cells": [
  {
   "cell_type": "code",
   "execution_count": 41,
   "metadata": {},
   "outputs": [],
   "source": [
    "import pandas as pd"
   ]
  },
  {
   "cell_type": "code",
   "execution_count": 42,
   "metadata": {},
   "outputs": [],
   "source": [
    "df = pd.read_csv(\"rentals1.csv\")"
   ]
  },
  {
   "cell_type": "code",
   "execution_count": 43,
   "metadata": {},
   "outputs": [
    {
     "data": {
      "text/plain": [
       "0      700\n",
       "1      640\n",
       "2      835\n",
       "3      530\n",
       "4      550\n",
       "      ... \n",
       "96     875\n",
       "97     630\n",
       "98     750\n",
       "99     725\n",
       "100    700\n",
       "Name: price, Length: 101, dtype: object"
      ]
     },
     "execution_count": 43,
     "metadata": {},
     "output_type": "execute_result"
    }
   ],
   "source": [
    "df.price.str.lstrip(\"$\")"
   ]
  },
  {
   "cell_type": "code",
   "execution_count": 44,
   "metadata": {},
   "outputs": [],
   "source": [
    "def repl(text):\n",
    "    return text.replace(\",\", \"\")\n",
    "\n",
    "df.price = df.price.apply(repl)"
   ]
  },
  {
   "cell_type": "code",
   "execution_count": 45,
   "metadata": {},
   "outputs": [
    {
     "data": {
      "text/html": [
       "<div>\n",
       "<style scoped>\n",
       "    .dataframe tbody tr th:only-of-type {\n",
       "        vertical-align: middle;\n",
       "    }\n",
       "\n",
       "    .dataframe tbody tr th {\n",
       "        vertical-align: top;\n",
       "    }\n",
       "\n",
       "    .dataframe thead th {\n",
       "        text-align: right;\n",
       "    }\n",
       "</style>\n",
       "<table border=\"1\" class=\"dataframe\">\n",
       "  <thead>\n",
       "    <tr style=\"text-align: right;\">\n",
       "      <th></th>\n",
       "      <th>id</th>\n",
       "      <th>name</th>\n",
       "      <th>url</th>\n",
       "      <th>date_posted</th>\n",
       "      <th>price</th>\n",
       "      <th>location_desc</th>\n",
       "      <th>lat</th>\n",
       "      <th>long</th>\n",
       "    </tr>\n",
       "  </thead>\n",
       "  <tbody>\n",
       "    <tr>\n",
       "      <th>10</th>\n",
       "      <td>7259639282</td>\n",
       "      <td>Looking for a LGBTQ+ (or ally) roommate in Str...</td>\n",
       "      <td>https://vancouver.craigslist.org/van/roo/d/van...</td>\n",
       "      <td>2021-01-09 15:28</td>\n",
       "      <td>850</td>\n",
       "      <td>Vancouver</td>\n",
       "      <td>49.277900</td>\n",
       "      <td>-123.090800</td>\n",
       "    </tr>\n",
       "    <tr>\n",
       "      <th>11</th>\n",
       "      <td>7258165322</td>\n",
       "      <td>Large Private Furnish Room 4 min. to Langara S...</td>\n",
       "      <td>https://vancouver.craigslist.org/van/roo/d/van...</td>\n",
       "      <td>2021-01-09 15:27</td>\n",
       "      <td>695</td>\n",
       "      <td>Langara/49th Skytrain/Vancouver</td>\n",
       "      <td>49.227295</td>\n",
       "      <td>-123.115540</td>\n",
       "    </tr>\n",
       "    <tr>\n",
       "      <th>12</th>\n",
       "      <td>7257538921</td>\n",
       "      <td>⚠️ Private Room in Newer East Van 2 Bdrm Suite ⚠️</td>\n",
       "      <td>https://vancouver.craigslist.org/van/roo/d/van...</td>\n",
       "      <td>2021-01-09 15:24</td>\n",
       "      <td>800</td>\n",
       "      <td>East Vancouver</td>\n",
       "      <td>49.269605</td>\n",
       "      <td>-123.044643</td>\n",
       "    </tr>\n",
       "    <tr>\n",
       "      <th>13</th>\n",
       "      <td>7259634595</td>\n",
       "      <td>Private room in a nice spacious condo in downt...</td>\n",
       "      <td>https://vancouver.craigslist.org/van/roo/d/pri...</td>\n",
       "      <td>2021-01-09 15:18</td>\n",
       "      <td>750</td>\n",
       "      <td>63 Keefer Pl</td>\n",
       "      <td>49.279457</td>\n",
       "      <td>-123.106113</td>\n",
       "    </tr>\n",
       "    <tr>\n",
       "      <th>14</th>\n",
       "      <td>7258568478</td>\n",
       "      <td>Master Furnish Room by Langara Skytrain. Priva...</td>\n",
       "      <td>https://vancouver.craigslist.org/van/roo/d/van...</td>\n",
       "      <td>2021-01-09 15:07</td>\n",
       "      <td>895</td>\n",
       "      <td>Langara/49th Skytrain/Vancouver</td>\n",
       "      <td>49.227267</td>\n",
       "      <td>-123.115540</td>\n",
       "    </tr>\n",
       "    <tr>\n",
       "      <th>15</th>\n",
       "      <td>7259625392</td>\n",
       "      <td>TRAVELLING COUPLE or 2 FRIENDS</td>\n",
       "      <td>https://vancouver.craigslist.org/van/roo/d/van...</td>\n",
       "      <td>2021-01-09 15:07</td>\n",
       "      <td>680</td>\n",
       "      <td>Joyce Skytrain Station</td>\n",
       "      <td>49.237873</td>\n",
       "      <td>-123.038485</td>\n",
       "    </tr>\n",
       "    <tr>\n",
       "      <th>16</th>\n",
       "      <td>7259622830</td>\n",
       "      <td>SOLO TRAVELLER</td>\n",
       "      <td>https://vancouver.craigslist.org/van/roo/d/van...</td>\n",
       "      <td>2021-01-09 15:04</td>\n",
       "      <td>380</td>\n",
       "      <td>Renfrew Skytrain Station</td>\n",
       "      <td>49.257454</td>\n",
       "      <td>-123.046811</td>\n",
       "    </tr>\n",
       "    <tr>\n",
       "      <th>17</th>\n",
       "      <td>7259618133</td>\n",
       "      <td>Room available for 1075 including utilities</td>\n",
       "      <td>https://vancouver.craigslist.org/van/roo/d/van...</td>\n",
       "      <td>2021-01-09 14:44</td>\n",
       "      <td>1075</td>\n",
       "      <td>Downtown Vancouver</td>\n",
       "      <td>49.283300</td>\n",
       "      <td>-123.129800</td>\n",
       "    </tr>\n",
       "    <tr>\n",
       "      <th>18</th>\n",
       "      <td>7259615707</td>\n",
       "      <td>Beautiful Penthouse Suite with 4-Piece Bathroo...</td>\n",
       "      <td>https://vancouver.craigslist.org/van/roo/d/van...</td>\n",
       "      <td>2021-01-09 14:38</td>\n",
       "      <td>895</td>\n",
       "      <td>VANCOUVER</td>\n",
       "      <td>49.236298</td>\n",
       "      <td>-123.043227</td>\n",
       "    </tr>\n",
       "    <tr>\n",
       "      <th>19</th>\n",
       "      <td>7259609271</td>\n",
       "      <td>Furnished Room, All inclusive with Private bat...</td>\n",
       "      <td>https://vancouver.craigslist.org/van/roo/d/van...</td>\n",
       "      <td>2021-01-09 14:26</td>\n",
       "      <td>1200</td>\n",
       "      <td>UBC , Point Grey, Vancouver</td>\n",
       "      <td>49.258252</td>\n",
       "      <td>-123.194150</td>\n",
       "    </tr>\n",
       "  </tbody>\n",
       "</table>\n",
       "</div>"
      ],
      "text/plain": [
       "            id                                               name  \\\n",
       "10  7259639282  Looking for a LGBTQ+ (or ally) roommate in Str...   \n",
       "11  7258165322  Large Private Furnish Room 4 min. to Langara S...   \n",
       "12  7257538921  ⚠️ Private Room in Newer East Van 2 Bdrm Suite ⚠️   \n",
       "13  7259634595  Private room in a nice spacious condo in downt...   \n",
       "14  7258568478  Master Furnish Room by Langara Skytrain. Priva...   \n",
       "15  7259625392                     TRAVELLING COUPLE or 2 FRIENDS   \n",
       "16  7259622830                                     SOLO TRAVELLER   \n",
       "17  7259618133        Room available for 1075 including utilities   \n",
       "18  7259615707  Beautiful Penthouse Suite with 4-Piece Bathroo...   \n",
       "19  7259609271  Furnished Room, All inclusive with Private bat...   \n",
       "\n",
       "                                                  url       date_posted price  \\\n",
       "10  https://vancouver.craigslist.org/van/roo/d/van...  2021-01-09 15:28   850   \n",
       "11  https://vancouver.craigslist.org/van/roo/d/van...  2021-01-09 15:27   695   \n",
       "12  https://vancouver.craigslist.org/van/roo/d/van...  2021-01-09 15:24   800   \n",
       "13  https://vancouver.craigslist.org/van/roo/d/pri...  2021-01-09 15:18   750   \n",
       "14  https://vancouver.craigslist.org/van/roo/d/van...  2021-01-09 15:07   895   \n",
       "15  https://vancouver.craigslist.org/van/roo/d/van...  2021-01-09 15:07   680   \n",
       "16  https://vancouver.craigslist.org/van/roo/d/van...  2021-01-09 15:04   380   \n",
       "17  https://vancouver.craigslist.org/van/roo/d/van...  2021-01-09 14:44  1075   \n",
       "18  https://vancouver.craigslist.org/van/roo/d/van...  2021-01-09 14:38   895   \n",
       "19  https://vancouver.craigslist.org/van/roo/d/van...  2021-01-09 14:26  1200   \n",
       "\n",
       "                      location_desc        lat        long  \n",
       "10                        Vancouver  49.277900 -123.090800  \n",
       "11  Langara/49th Skytrain/Vancouver  49.227295 -123.115540  \n",
       "12                   East Vancouver  49.269605 -123.044643  \n",
       "13                     63 Keefer Pl  49.279457 -123.106113  \n",
       "14  Langara/49th Skytrain/Vancouver  49.227267 -123.115540  \n",
       "15           Joyce Skytrain Station  49.237873 -123.038485  \n",
       "16         Renfrew Skytrain Station  49.257454 -123.046811  \n",
       "17               Downtown Vancouver  49.283300 -123.129800  \n",
       "18                        VANCOUVER  49.236298 -123.043227  \n",
       "19      UBC , Point Grey, Vancouver  49.258252 -123.194150  "
      ]
     },
     "execution_count": 45,
     "metadata": {},
     "output_type": "execute_result"
    }
   ],
   "source": [
    "df[10:20]"
   ]
  },
  {
   "cell_type": "code",
   "execution_count": 46,
   "metadata": {},
   "outputs": [
    {
     "data": {
      "text/plain": [
       "'1200'"
      ]
     },
     "execution_count": 46,
     "metadata": {},
     "output_type": "execute_result"
    }
   ],
   "source": [
    "df.at[19, \"price\"]"
   ]
  },
  {
   "cell_type": "code",
   "execution_count": 48,
   "metadata": {},
   "outputs": [],
   "source": [
    "df.to_csv(\"rentals1.csv\", index=False)"
   ]
  },
  {
   "cell_type": "code",
   "execution_count": null,
   "metadata": {},
   "outputs": [],
   "source": []
  }
 ],
 "metadata": {
  "kernelspec": {
   "display_name": "Python 3",
   "language": "python",
   "name": "python3"
  },
  "language_info": {
   "codemirror_mode": {
    "name": "ipython",
    "version": 3
   },
   "file_extension": ".py",
   "mimetype": "text/x-python",
   "name": "python",
   "nbconvert_exporter": "python",
   "pygments_lexer": "ipython3",
   "version": "3.6.9"
  }
 },
 "nbformat": 4,
 "nbformat_minor": 4
}
