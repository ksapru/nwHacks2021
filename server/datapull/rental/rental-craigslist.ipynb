{
 "cells": [
  {
   "cell_type": "code",
   "execution_count": 46,
   "metadata": {},
   "outputs": [],
   "source": [
    "import pandas as pd\n",
    "from craigslist import CraigslistHousing"
   ]
  },
  {
   "cell_type": "code",
   "execution_count": 47,
   "metadata": {},
   "outputs": [],
   "source": [
    "cl_h = CraigslistHousing(site='vancouver', area='van', category='roo',\n",
    "                         filters={'max_price': 1200, 'private_room': True})"
   ]
  },
  {
   "cell_type": "code",
   "execution_count": 48,
   "metadata": {},
   "outputs": [
    {
     "name": "stdout",
     "output_type": "stream",
     "text": [
      "1546\n"
     ]
    }
   ],
   "source": [
    "\n",
    "# You can get an approximate amount of results with the following call:\n",
    "print(cl_h.get_results_approx_count())"
   ]
  },
  {
   "cell_type": "code",
   "execution_count": 49,
   "metadata": {},
   "outputs": [],
   "source": [
    "rentals = pd.DataFrame(columns = ['id', 'name', 'url', 'datetime', 'price', 'where', 'lat', 'long'])"
   ]
  },
  {
   "cell_type": "code",
   "execution_count": 50,
   "metadata": {},
   "outputs": [
    {
     "name": "stdout",
     "output_type": "stream",
     "text": [
      "{'id': '7253222080', 'repost_of': None, 'name': 'Fully furnished room available in a shared basement for Jan 15', 'url': 'https://vancouver.craigslist.org/van/roo/d/vancouver-fully-furnished-room/7253222080.html', 'datetime': '2021-01-09 16:20', 'last_updated': '2021-01-09 16:20', 'price': '$700', 'where': 'Vancouver', 'has_image': True, 'geotag': (49.2156, -123.0979), 'deleted': False}\n",
      "{'id': '7255642766', 'repost_of': None, 'name': 'Marine Dr. Near Superstore, Furnished, Utilities Included', 'url': 'https://vancouver.craigslist.org/van/roo/d/vancouver-marine-dr-near-superstore/7255642766.html', 'datetime': '2021-01-09 16:07', 'last_updated': '2021-01-09 16:07', 'price': '$640', 'where': 'South Vancouver', 'has_image': True, 'geotag': (49.211836, -123.094597), 'deleted': False}\n",
      "{'id': '7254287696', 'repost_of': '6852721812', 'name': 'Furnished room available Jan 15th or Feb 1st', 'url': 'https://vancouver.craigslist.org/van/roo/d/chilliwack-furnished-room-available-jan/7254287696.html', 'datetime': '2021-01-09 16:06', 'last_updated': '2021-01-09 16:06', 'price': '$835', 'where': 'False Creek', 'has_image': True, 'geotag': (49.264318, -123.121934), 'deleted': False}\n",
      "{'id': '7259653709', 'repost_of': '6715361915', 'name': 'room for rent', 'url': 'https://vancouver.craigslist.org/van/roo/d/vancouver-room-for-rent/7259653709.html', 'datetime': '2021-01-09 16:02', 'last_updated': '2021-01-09 16:02', 'price': '$530', 'where': 'knight st (at 43)', 'has_image': False, 'geotag': (49.245411, -123.07627), 'deleted': False}\n",
      "{'id': '7259652386', 'repost_of': None, 'name': 'Bedroom for rent', 'url': 'https://vancouver.craigslist.org/van/roo/d/vancouver-bedroom-for-rent/7259652386.html', 'datetime': '2021-01-09 15:59', 'last_updated': '2021-01-09 15:59', 'price': '$550', 'where': 'Vancouver', 'has_image': True, 'geotag': (49.2175, -123.038), 'deleted': False}\n",
      "{'id': '7259647111', 'repost_of': '7073133541', 'name': 'New luxury condo room for rent', 'url': 'https://vancouver.craigslist.org/van/roo/d/vancouver-new-luxury-condo-room-for-rent/7259647111.html', 'datetime': '2021-01-09 15:54', 'last_updated': '2021-01-09 15:54', 'price': '$900', 'where': 'Vancouver', 'has_image': True, 'geotag': (49.243184, -123.060982), 'deleted': False}\n",
      "{'id': '7259646140', 'repost_of': None, 'name': 'New house furnished rooms for rent', 'url': 'https://vancouver.craigslist.org/van/roo/d/vancouver-new-house-furnished-rooms-for/7259646140.html', 'datetime': '2021-01-09 15:44', 'last_updated': '2021-01-09 15:44', 'price': '$800', 'where': 'E 55 ave', 'has_image': True, 'geotag': (49.222, -123.0683), 'deleted': False}\n",
      "{'id': '7250718075', 'repost_of': '6189018796', 'name': 'Room for rent', 'url': 'https://vancouver.craigslist.org/van/roo/d/room-for-rent/7250718075.html', 'datetime': '2021-01-09 15:42', 'last_updated': '2021-01-09 15:42', 'price': '$600', 'where': 'est Vacouver', 'has_image': True, 'geotag': (49.23301, -123.025898), 'deleted': False}\n",
      "{'id': '7259639794', 'repost_of': '4493556283', 'name': '***Share Large Apt - 3 Bdrm  - West End  ****', 'url': 'https://vancouver.craigslist.org/van/roo/d/share-large-apt-bdrm-west-end/7259639794.html', 'datetime': '2021-01-09 15:39', 'last_updated': '2021-01-09 15:39', 'price': '$850', 'where': 'Pendrell & Nicola', 'has_image': False, 'geotag': None, 'deleted': False}\n",
      "{'id': '7258183487', 'repost_of': None, 'name': 'Seeking roommate for a sweet 2 bedroom on Commercial Dr!', 'url': 'https://vancouver.craigslist.org/van/roo/d/vancouver-seeking-roommate-for-sweet/7258183487.html', 'datetime': '2021-01-09 15:38', 'last_updated': '2021-01-09 15:38', 'price': '$900', 'where': 'East Van', 'has_image': True, 'geotag': (49.2795, -123.0667), 'deleted': False}\n",
      "{'id': '7258198324', 'repost_of': None, 'name': 'Room for rent in 2-bedroom apartment', 'url': 'https://vancouver.craigslist.org/van/roo/d/vancouver-room-for-rent-in-bedroom/7258198324.html', 'datetime': '2021-01-09 15:35', 'last_updated': '2021-01-09 15:35', 'price': '$797', 'where': 'East Van', 'has_image': True, 'geotag': (49.262, -123.0923), 'deleted': False}\n",
      "{'id': '7259639282', 'repost_of': None, 'name': 'Looking for a LGBTQ+ (or ally) roommate in Strathcona', 'url': 'https://vancouver.craigslist.org/van/roo/d/vancouver-looking-for-lgbtq-or-ally/7259639282.html', 'datetime': '2021-01-09 15:28', 'last_updated': '2021-01-09 15:28', 'price': '$850', 'where': 'Vancouver', 'has_image': True, 'geotag': (49.2779, -123.0908), 'deleted': False}\n",
      "{'id': '7258165322', 'repost_of': '7255705048', 'name': 'Large Private Furnish Room 4 min. to Langara Skytrain in 3br Suite', 'url': 'https://vancouver.craigslist.org/van/roo/d/vancouver-large-private-furnish-room/7258165322.html', 'datetime': '2021-01-09 15:27', 'last_updated': '2021-01-09 15:27', 'price': '$695', 'where': 'Langara/49th Skytrain/Vancouver', 'has_image': True, 'geotag': (49.227295, -123.11554), 'deleted': False}\n",
      "{'id': '7257538921', 'repost_of': '7256258358', 'name': '⚠️ Private Room in Newer East Van 2 Bdrm Suite ⚠️', 'url': 'https://vancouver.craigslist.org/van/roo/d/vancouver-private-room-in-newer-east/7257538921.html', 'datetime': '2021-01-09 15:24', 'last_updated': '2021-01-09 15:24', 'price': '$800', 'where': 'East Vancouver', 'has_image': True, 'geotag': (49.269605, -123.044643), 'deleted': False}\n",
      "{'id': '7259634595', 'repost_of': '6134722344', 'name': 'Private room in a nice spacious condo in downtown!', 'url': 'https://vancouver.craigslist.org/van/roo/d/private-room-in-nice-spacious-condo-in/7259634595.html', 'datetime': '2021-01-09 15:18', 'last_updated': '2021-01-09 15:18', 'price': '$750', 'where': '63 Keefer Pl', 'has_image': True, 'geotag': (49.279457, -123.106113), 'deleted': False}\n",
      "{'id': '7258568478', 'repost_of': '7253829027', 'name': 'Master Furnish Room by Langara Skytrain. Private Bathroom', 'url': 'https://vancouver.craigslist.org/van/roo/d/vancouver-master-furnish-room-by/7258568478.html', 'datetime': '2021-01-09 15:07', 'last_updated': '2021-01-09 15:07', 'price': '$895', 'where': 'Langara/49th Skytrain/Vancouver', 'has_image': True, 'geotag': (49.227267, -123.11554), 'deleted': False}\n",
      "{'id': '7259625392', 'repost_of': None, 'name': 'TRAVELLING COUPLE or 2 FRIENDS', 'url': 'https://vancouver.craigslist.org/van/roo/d/vancouver-travelling-couple-or-friends/7259625392.html', 'datetime': '2021-01-09 15:07', 'last_updated': '2021-01-09 15:07', 'price': '$680', 'where': 'Joyce Skytrain Station', 'has_image': True, 'geotag': (49.237873, -123.038485), 'deleted': False}\n",
      "{'id': '7259622830', 'repost_of': None, 'name': 'SOLO TRAVELLER', 'url': 'https://vancouver.craigslist.org/van/roo/d/vancouver-solo-traveller/7259622830.html', 'datetime': '2021-01-09 15:04', 'last_updated': '2021-01-09 15:04', 'price': '$380', 'where': 'Renfrew Skytrain Station', 'has_image': True, 'geotag': (49.257454, -123.046811), 'deleted': False}\n",
      "{'id': '7255545701', 'repost_of': '4658906851', 'name': 'Furnished rooms, joyce skytrain station', 'url': 'https://vancouver.craigslist.org/van/roo/d/furnished-rooms-joyce-skytrain-station/7255545701.html', 'datetime': '2021-01-09 14:51', 'last_updated': '2021-01-09 14:51', 'price': '$750', 'where': 'joyce skytrain', 'has_image': True, 'geotag': None, 'deleted': False}\n",
      "{'id': '7259618133', 'repost_of': '7253438768', 'name': 'Room available for $1075 including utilities', 'url': 'https://vancouver.craigslist.org/van/roo/d/vancouver-room-available-for-1075/7259618133.html', 'datetime': '2021-01-09 14:44', 'last_updated': '2021-01-09 14:44', 'price': '$1,075', 'where': 'Downtown Vancouver', 'has_image': True, 'geotag': (49.2833, -123.1298), 'deleted': False}\n",
      "{'id': '7259615707', 'repost_of': '6985584996', 'name': 'Beautiful Penthouse Suite with 4-Piece Bathroom/Amazing PanoramicViews', 'url': 'https://vancouver.craigslist.org/van/roo/d/vancouver-beautiful-penthouse-suite/7259615707.html', 'datetime': '2021-01-09 14:38', 'last_updated': '2021-01-09 14:38', 'price': '$895', 'where': 'VANCOUVER', 'has_image': True, 'geotag': (49.236298, -123.043227), 'deleted': False}\n",
      "{'id': '7259609271', 'repost_of': None, 'name': 'Furnished Room, All inclusive with Private bathroom & Balcony', 'url': 'https://vancouver.craigslist.org/van/roo/d/vancouver-furnished-room-all-inclusive/7259609271.html', 'datetime': '2021-01-09 14:26', 'last_updated': '2021-01-09 14:26', 'price': '$1,200', 'where': 'UBC , Point Grey, Vancouver', 'has_image': True, 'geotag': (49.258252, -123.19415), 'deleted': False}\n"
     ]
    },
    {
     "name": "stdout",
     "output_type": "stream",
     "text": [
      "{'id': '7254056036', 'repost_of': None, 'name': '★★★Furnished private room for rent include Utilities (Available from f', 'url': 'https://vancouver.craigslist.org/van/roo/d/vancouver-furnished-private-room-for/7254056036.html', 'datetime': '2021-01-09 14:24', 'last_updated': '2021-01-09 14:24', 'price': '$650', 'where': 'Nanaimo street/Graveley street', 'has_image': True, 'geotag': (49.2795, -123.0667), 'deleted': False}\n",
      "{'id': '7259605843', 'repost_of': None, 'name': 'Furnished Room, All Inclusive, in 3Bedroom Laneway house', 'url': 'https://vancouver.craigslist.org/van/roo/d/vancouver-furnished-room-all-inclusive/7259605843.html', 'datetime': '2021-01-09 14:19', 'last_updated': '2021-01-09 14:19', 'price': '$800', 'where': 'UBC , Point Grey, Vancouver', 'has_image': True, 'geotag': (49.258266, -123.194171), 'deleted': False}\n",
      "{'id': '7256041579', 'repost_of': '7144237460', 'name': 'Sweet house with awesome people in Kerrisdale available now.', 'url': 'https://vancouver.craigslist.org/van/roo/d/vancouver-sweet-house-with-awesome/7256041579.html', 'datetime': '2021-01-09 14:12', 'last_updated': '2021-01-09 14:12', 'price': '$680', 'where': 'Vancouver, UBC, Kerrisdale', 'has_image': True, 'geotag': (49.232648, -123.1703), 'deleted': False}\n",
      "{'id': '7259597711', 'repost_of': '7248426965', 'name': 'NEAR NANAIMO/29th AVE SKYTRAIN FURNISHED ROOM FOR STUDENT/WORKING', 'url': 'https://vancouver.craigslist.org/van/roo/d/vancouver-near-nanaimo-29th-ave/7259597711.html', 'datetime': '2021-01-09 14:11', 'last_updated': '2021-01-09 14:11', 'price': '$620', 'where': 'Nanaimo/29th Ave Skytrain Station', 'has_image': True, 'geotag': (49.247621, -123.049819), 'deleted': False}\n",
      "{'id': '7259596213', 'repost_of': '7109887862', 'name': 'Large Private Furnish Room by Langara Skytrain. Utilities Included', 'url': 'https://vancouver.craigslist.org/van/roo/d/vancouver-large-private-furnish-room-by/7259596213.html', 'datetime': '2021-01-09 14:01', 'last_updated': '2021-01-09 14:01', 'price': '$695', 'where': 'Langara/49th Skytrain/Langara College', 'has_image': True, 'geotag': (49.230201, -123.114803), 'deleted': False}\n",
      "{'id': '7259584449', 'repost_of': None, 'name': 'great room in shared house for Feb 1st 2021', 'url': 'https://vancouver.craigslist.org/van/roo/d/vancouver-great-room-in-shared-house/7259584449.html', 'datetime': '2021-01-09 13:57', 'last_updated': '2021-01-09 13:57', 'price': '$800', 'where': 'Hastings-Sunrise', 'has_image': True, 'geotag': (49.283888, -123.049539), 'deleted': False}\n",
      "{'id': '7251272698', 'repost_of': None, 'name': 'Room available in Renfrew-Collingwood', 'url': 'https://vancouver.craigslist.org/van/roo/d/vancouver-room-available-in-renfrew/7251272698.html', 'datetime': '2021-01-09 13:55', 'last_updated': '2021-01-09 13:55', 'price': '$650', 'where': 'Vancouver', 'has_image': True, 'geotag': (49.2397, -123.0407), 'deleted': False}\n",
      "{'id': '7255820238', 'repost_of': '7235801774', 'name': 'Big Cozy Room', 'url': 'https://vancouver.craigslist.org/van/roo/d/vancouver-big-cozy-room/7255820238.html', 'datetime': '2021-01-09 13:52', 'last_updated': '2021-01-09 13:52', 'price': '$800', 'where': 'Vancouver', 'has_image': True, 'geotag': (49.223629, -123.086529), 'deleted': False}\n",
      "{'id': '7259591346', 'repost_of': None, 'name': 'Homestay for Females only', 'url': 'https://vancouver.craigslist.org/van/roo/d/vancouver-homestay-for-females-only/7259591346.html', 'datetime': '2021-01-09 13:52', 'last_updated': '2021-01-09 13:52', 'price': '$750', 'where': 'VANCOUVER', 'has_image': True, 'geotag': (49.2397, -123.0407), 'deleted': False}\n",
      "{'id': '7256142408', 'repost_of': None, 'name': '1 bedroom FURNISHED SUITE FOR RENT, BEST FOR 2 PEOPLE, FROM 1st March', 'url': 'https://vancouver.craigslist.org/van/roo/d/vancouver-bedroom-furnished-suite-for/7256142408.html', 'datetime': '2021-01-09 13:47', 'last_updated': '2021-01-09 13:47', 'price': '$880', 'where': 'VANCOUVER', 'has_image': True, 'geotag': (49.279054, -123.038529), 'deleted': False}\n",
      "{'id': '7258537953', 'repost_of': '7157082044', 'name': 'Room available in shared house near King Edward Canadaline', 'url': 'https://vancouver.craigslist.org/van/roo/d/vancouver-room-available-in-shared/7258537953.html', 'datetime': '2021-01-09 13:41', 'last_updated': '2021-01-09 13:41', 'price': '$700', 'where': 'Vancouver', 'has_image': True, 'geotag': (49.249856, -123.113308), 'deleted': False}\n",
      "{'id': '7259582926', 'repost_of': '6904893173', 'name': 'Big bright furnished room with a view for rent', 'url': 'https://vancouver.craigslist.org/van/roo/d/vancouver-big-bright-furnished-room/7259582926.html', 'datetime': '2021-01-09 13:37', 'last_updated': '2021-01-09 13:37', 'price': '$800', 'where': 'near PNE', 'has_image': True, 'geotag': (49.285276, -123.061166), 'deleted': False}\n",
      "{'id': '7256479361', 'repost_of': None, 'name': 'bright furnished private room', 'url': 'https://vancouver.craigslist.org/van/roo/d/vancouver-bright-furnished-private-room/7256479361.html', 'datetime': '2021-01-09 13:29', 'last_updated': '2021-01-09 13:29', 'price': '$650', 'where': 'south vancouver', 'has_image': True, 'geotag': (49.211143, -123.102221), 'deleted': False}\n",
      "{'id': '7255168091', 'repost_of': None, 'name': 'Large bedroom in a great shared house - Available Feb 1st', 'url': 'https://vancouver.craigslist.org/van/roo/d/vancouver-large-bedroom-in-great-shared/7255168091.html', 'datetime': '2021-01-09 13:21', 'last_updated': '2021-01-09 13:21', 'price': '$850', 'where': 'Mount Pleasant', 'has_image': True, 'geotag': (49.25049, -123.099661), 'deleted': False}\n",
      "{'id': '7259567253', 'repost_of': '6805612801', 'name': 'new room rent vancouver (5min from metrotown mall)', 'url': 'https://vancouver.craigslist.org/van/roo/d/vancouver-new-room-rent-vancouver-5min/7259567253.html', 'datetime': '2021-01-09 13:09', 'last_updated': '2021-01-09 13:09', 'price': '$650', 'where': None, 'has_image': True, 'geotag': (49.225469, -123.040934), 'deleted': False}\n",
      "{'id': '7257844844', 'repost_of': '7234163741', 'name': 'Minutes to Ubc campus, Nice quiet Location!', 'url': 'https://vancouver.craigslist.org/van/roo/d/vancouver-minutes-to-ubc-campus-nice/7257844844.html', 'datetime': '2021-01-09 13:08', 'last_updated': '2021-01-09 13:08', 'price': '$800', 'where': 'Kits, Dunbar, Southlands, Point Grey, Ubc', 'has_image': True, 'geotag': (49.2302, -123.189), 'deleted': False}\n",
      "{'id': '7259563209', 'repost_of': '7248426965', 'name': 'NEAR NANAIMO/29th AVE SKYTRAIN FURNISHED ROOM FOR STUDENT/WORKING', 'url': 'https://vancouver.craigslist.org/van/roo/d/vancouver-near-nanaimo-29th-ave/7259563209.html', 'datetime': '2021-01-09 13:07', 'last_updated': '2021-01-09 13:07', 'price': '$620', 'where': 'Nanaimo/29th Ave Skytrain Station', 'has_image': True, 'geotag': (49.247621, -123.049819), 'deleted': False}\n",
      "{'id': '7257680907', 'repost_of': '6445449954', 'name': 'MAR 1 or FEB 1 - 2 LARGE Furnished rooms in 3 bdrm Heritage Building', 'url': 'https://vancouver.craigslist.org/van/roo/d/vancouver-mar-or-feb-large-furnished/7257680907.html', 'datetime': '2021-01-09 12:55', 'last_updated': '2021-01-09 12:55', 'price': '$875', 'where': 'Coal Harbour', 'has_image': True, 'geotag': (49.287375, -123.124938), 'deleted': False}\n",
      "{'id': '7259559099', 'repost_of': None, 'name': '$650clean 1 room 1 minuet walk distance to the joyce skytrain station.', 'url': 'https://vancouver.craigslist.org/van/roo/d/vancouver-650clean-room-minuet-walk/7259559099.html', 'datetime': '2021-01-09 12:55', 'last_updated': '2021-01-09 12:55', 'price': '$650', 'where': 'VANCOUVER', 'has_image': True, 'geotag': (49.2397, -123.0407), 'deleted': False}\n",
      "{'id': '7259533844', 'repost_of': '7248824208', 'name': 'Private Furnished Rm w/ Utilities! Near Downtown+UBC Express Bus', 'url': 'https://vancouver.craigslist.org/van/roo/d/vancouver-private-furnished-rm/7259533844.html', 'datetime': '2021-01-09 12:52', 'last_updated': '2021-01-09 12:52', 'price': '$690', 'where': None, 'has_image': True, 'geotag': (49.236705, -123.150408), 'deleted': False}\n",
      "{'id': '7259554126', 'repost_of': None, 'name': '$675 / furnished bedroom private washroom Female', 'url': 'https://vancouver.craigslist.org/van/roo/d/vancouver-675-furnished-bedroom-private/7259554126.html', 'datetime': '2021-01-09 12:46', 'last_updated': '2021-01-09 12:46', 'price': '$675', 'where': 'Fraser & 52nd', 'has_image': True, 'geotag': (49.2156, -123.0979), 'deleted': False}\n",
      "{'id': '7259542949', 'repost_of': None, 'name': 'Spacious Bedroom with amazing location', 'url': 'https://vancouver.craigslist.org/van/roo/d/vancouver-spacious-bedroom-with-amazing/7259542949.html', 'datetime': '2021-01-09 12:42', 'last_updated': '2021-01-09 12:42', 'price': '$900', 'where': 'Kitsilano', 'has_image': True, 'geotag': (49.267599, -123.175801), 'deleted': False}\n"
     ]
    },
    {
     "name": "stdout",
     "output_type": "stream",
     "text": [
      "{'id': '7257706485', 'repost_of': None, 'name': 'Room for Rent in Large 3BR Condon', 'url': 'https://vancouver.craigslist.org/van/roo/d/vancouver-room-for-rent-in-large-3br/7257706485.html', 'datetime': '2021-01-09 12:42', 'last_updated': '2021-01-09 12:42', 'price': '$718', 'where': 'VANCOUVER', 'has_image': True, 'geotag': (49.256914, -123.115148), 'deleted': False}\n",
      "{'id': '7259535455', 'repost_of': '6881558191', 'name': 'Private Furnished Rm on 1st Floor @Kits w/ Utilities! Near Express Bus', 'url': 'https://vancouver.craigslist.org/van/roo/d/vancouver-private-furnished-rm-on-1st/7259535455.html', 'datetime': '2021-01-09 12:41', 'last_updated': '2021-01-09 12:41', 'price': '$700', 'where': None, 'has_image': True, 'geotag': None, 'deleted': False}\n",
      "{'id': '7255867198', 'repost_of': '7222665781', 'name': 'Looking for pet friendly room rental', 'url': 'https://vancouver.craigslist.org/van/roo/d/vancouver-looking-for-pet-friendly-room/7255867198.html', 'datetime': '2021-01-09 12:41', 'last_updated': '2021-01-09 12:41', 'price': '$800', 'where': 'Vancouver and  area', 'has_image': True, 'geotag': (49.2397, -123.0407), 'deleted': False}\n",
      "{'id': '7259535129', 'repost_of': '7251925136', 'name': 'Furnished Private Rm on 1st Floor @Kits w/ Utilities! Near Express Bus', 'url': 'https://vancouver.craigslist.org/van/roo/d/vancouver-furnished-private-rm-on-1st/7259535129.html', 'datetime': '2021-01-09 12:30', 'last_updated': '2021-01-09 12:30', 'price': '$695', 'where': None, 'has_image': True, 'geotag': (49.263265, -123.182668), 'deleted': False}\n",
      "{'id': '7259540099', 'repost_of': None, 'name': 'Room Share available King Edward & Oak', 'url': 'https://vancouver.craigslist.org/van/roo/d/vancouver-room-share-available-king/7259540099.html', 'datetime': '2021-01-09 12:23', 'last_updated': '2021-01-09 12:23', 'price': '$725', 'where': None, 'has_image': False, 'geotag': (49.299, -123.1408), 'deleted': False}\n",
      "{'id': '7252357543', 'repost_of': '6959076508', 'name': 'Private room for rent', 'url': 'https://vancouver.craigslist.org/van/roo/d/vancouver-private-room-for-rent/7252357543.html', 'datetime': '2021-01-09 12:20', 'last_updated': '2021-01-09 12:20', 'price': '$800', 'where': 'Vancouver', 'has_image': True, 'geotag': (49.231902, -123.060372), 'deleted': False}\n",
      "{'id': '7259532677', 'repost_of': '7064800273', 'name': 'Private room available for couple/ Free Wifi/ No damage deposit', 'url': 'https://vancouver.craigslist.org/van/roo/d/vancouver-private-room-available-for/7259532677.html', 'datetime': '2021-01-09 12:12', 'last_updated': '2021-01-09 12:12', 'price': '$1,000', 'where': 'Robson street Downtown', 'has_image': True, 'geotag': (49.290426, -123.133049), 'deleted': False}\n",
      "{'id': '7258335466', 'repost_of': None, 'name': '💜AVAIL FEB 1ST: FURNISHED ROOM in SAFE FRIENDLY HOUSE BY CAP U/DEEP COVE💜', 'url': 'https://vancouver.craigslist.org/van/roo/d/north-vancouver-avail-feb-1st-furnished/7258335466.html', 'datetime': '2021-01-09 12:11', 'last_updated': '2021-01-09 12:11', 'price': '$800', 'where': 'North Vancouver (By Capilano University)', 'has_image': True, 'geotag': (49.31483, -123.011399), 'deleted': False}\n",
      "{'id': '7259531881', 'repost_of': None, 'name': 'Fully furnished 1 bedroom', 'url': 'https://vancouver.craigslist.org/van/roo/d/vancouver-fully-furnished-bedroom/7259531881.html', 'datetime': '2021-01-09 12:10', 'last_updated': '2021-01-09 12:10', 'price': '$800', 'where': 'East Vancouver', 'has_image': True, 'geotag': (49.2327, -123.0917), 'deleted': False}\n",
      "{'id': '7257873523', 'repost_of': '7252189727', 'name': 'Very Large Private room by Langara/49th Skytrain and College', 'url': 'https://vancouver.craigslist.org/van/roo/d/vancouver-very-large-private-room-by/7257873523.html', 'datetime': '2021-01-09 12:06', 'last_updated': '2021-01-09 12:06', 'price': '$795', 'where': 'Langara/49th Skytrain/Vancouver', 'has_image': True, 'geotag': (49.227211, -123.115754), 'deleted': False}\n",
      "{'id': '7255103353', 'repost_of': '7226015804', 'name': '温哥华西区别墅独立房间出租 1Br,1bath,950', 'url': 'https://vancouver.craigslist.org/van/roo/d/vancouver-1br1bath950/7255103353.html', 'datetime': '2021-01-09 11:57', 'last_updated': '2021-01-09 11:57', 'price': '$900', 'where': '温哥华西区桑纳斯 Vancouver', 'has_image': True, 'geotag': (49.2559, -123.1322), 'deleted': False}\n",
      "{'id': '7259522104', 'repost_of': '7108311326', 'name': 'Private room at Downtown with washroom inside x 2 internationa female', 'url': 'https://vancouver.craigslist.org/van/roo/d/vancouver-private-room-at-downtown-with/7259522104.html', 'datetime': '2021-01-09 11:55', 'last_updated': '2021-01-09 11:55', 'price': '$590', 'where': 'Downtown Granville-Drake', 'has_image': True, 'geotag': (49.2767, -123.13), 'deleted': False}\n",
      "{'id': '7257128993', 'repost_of': None, 'name': 'Room for rent in Yaletown', 'url': 'https://vancouver.craigslist.org/van/roo/d/vancouver-room-for-rent-in-yaletown/7257128993.html', 'datetime': '2021-01-09 11:54', 'last_updated': '2021-01-09 11:54', 'price': '$1,025', 'where': 'Yaletown', 'has_image': True, 'geotag': (49.2788, -123.1139), 'deleted': False}\n",
      "{'id': '7259515773', 'repost_of': None, 'name': 'Furnished Room, All Inclusive, in 3Bedroom Laneway house', 'url': 'https://vancouver.craigslist.org/van/roo/d/vancouver-furnished-room-all-inclusive/7259515773.html', 'datetime': '2021-01-09 11:46', 'last_updated': '2021-01-09 11:46', 'price': '$800', 'where': 'UBC , Point Grey, Vancouver', 'has_image': True, 'geotag': (49.258196, -123.194107), 'deleted': False}\n",
      "{'id': '7259500400', 'repost_of': None, 'name': 'Feb 1st or Now - Unfurnished Bedroom in Spacious 2bd in Kits', 'url': 'https://vancouver.craigslist.org/van/roo/d/vancouver-feb-1st-or-now-unfurnished/7259500400.html', 'datetime': '2021-01-09 11:45', 'last_updated': '2021-01-09 11:45', 'price': '$1,050', 'where': 'Kitsilano', 'has_image': True, 'geotag': (49.261733, -123.150043), 'deleted': False}\n",
      "{'id': '7259484400', 'repost_of': None, 'name': '1br + Private Bathroom Avail. in new Laneway House', 'url': 'https://vancouver.craigslist.org/van/roo/d/vancouver-1br-private-bathroom-avail-in/7259484400.html', 'datetime': '2021-01-09 11:36', 'last_updated': '2021-01-09 11:36', 'price': '$1,075', 'where': 'Vancouver', 'has_image': True, 'geotag': (49.2355, -123.0751), 'deleted': False}\n",
      "{'id': '7255092157', 'repost_of': None, 'name': 'Private Room  $600', 'url': 'https://vancouver.craigslist.org/van/roo/d/vancouver-private-room-600/7255092157.html', 'datetime': '2021-01-09 11:35', 'last_updated': '2021-01-09 11:35', 'price': '$600', 'where': 'Vancouver', 'has_image': True, 'geotag': (49.2397, -123.0407), 'deleted': False}\n",
      "{'id': '7256407613', 'repost_of': None, 'name': 'Private Furnished Room, Shared Bathroom. Downtown', 'url': 'https://vancouver.craigslist.org/van/roo/d/vancouver-private-furnished-room-shared/7256407613.html', 'datetime': '2021-01-09 11:27', 'last_updated': '2021-01-09 11:27', 'price': '$850', 'where': 'Burrard Downtown', 'has_image': True, 'geotag': (49.2767, -123.13), 'deleted': False}\n",
      "{'id': '7259500119', 'repost_of': None, 'name': 'Private bedroom by Stanley Park for a single woman', 'url': 'https://vancouver.craigslist.org/van/roo/d/vancouver-private-bedroom-by-stanley/7259500119.html', 'datetime': '2021-01-09 11:23', 'last_updated': '2021-01-09 11:23', 'price': '$1,050', 'where': 'downtown Vancouver', 'has_image': True, 'geotag': (49.299, -123.1408), 'deleted': False}\n",
      "{'id': '7257672810', 'repost_of': '6555045966', 'name': 'Cozy Space on the West side of Vancouver', 'url': 'https://vancouver.craigslist.org/van/roo/d/vancouver-cozy-space-on-the-west-side/7257672810.html', 'datetime': '2021-01-09 11:21', 'last_updated': '2021-01-09 11:21', 'price': '$1', 'where': 'Vancouver - Shaughnessy', 'has_image': True, 'geotag': (49.251351, -123.13898), 'deleted': False}\n",
      "{'id': '7259491232', 'repost_of': None, 'name': '1 Unfurnished Bedroom Suite to Share', 'url': 'https://vancouver.craigslist.org/van/roo/d/vancouver-unfurnished-bedroom-suite-to/7259491232.html', 'datetime': '2021-01-09 11:11', 'last_updated': '2021-01-09 11:11', 'price': '$750', 'where': '40th /Ross Street, Vancouver', 'has_image': True, 'geotag': (49.209513, -123.084137), 'deleted': False}\n",
      "{'id': '7248405959', 'repost_of': None, 'name': 'Shared accommodation', 'url': 'https://vancouver.craigslist.org/van/roo/d/delta-southwest-shared-accommodation/7248405959.html', 'datetime': '2021-01-09 11:03', 'last_updated': '2021-01-09 11:03', 'price': '$600', 'where': '((Vancouver one block west of 62nd and granville)', 'has_image': True, 'geotag': (49.0331, -123.0877), 'deleted': False}\n"
     ]
    },
    {
     "name": "stdout",
     "output_type": "stream",
     "text": [
      "{'id': '7253785385', 'repost_of': '7236676681', 'name': '1 bdrm in bright 2 bdrm apt.', 'url': 'https://vancouver.craigslist.org/van/roo/d/vancouver-bdrm-in-bright-bdrm-apt/7253785385.html', 'datetime': '2021-01-09 10:52', 'last_updated': '2021-01-09 10:52', 'price': '$810', 'where': 'Mount pleasant', 'has_image': True, 'geotag': (49.262, -123.0923), 'deleted': False}\n",
      "{'id': '7253463551', 'repost_of': None, 'name': '29th Skytrain 1 Bedroom shared Washroom', 'url': 'https://vancouver.craigslist.org/van/roo/d/vancouver-29th-skytrain-bedroom-shared/7253463551.html', 'datetime': '2021-01-09 10:46', 'last_updated': '2021-01-09 10:46', 'price': '$700', 'where': '4327 Atlin St, Vancouver, BC V5R 2C1, Canada', 'has_image': True, 'geotag': (49.246036, -123.045865), 'deleted': False}\n",
      "{'id': '7259471168', 'repost_of': '7244848047', 'name': '☀️ Clean, quiet, responsible, furnished, sunny - Good area - Jan or Feb', 'url': 'https://vancouver.craigslist.org/van/roo/d/vancouver-clean-quiet-responsible/7259471168.html', 'datetime': '2021-01-09 10:41', 'last_updated': '2021-01-09 10:41', 'price': '$650', 'where': 'Vancouver nr Dunbar 41st Downtn 25 min UBC 10 min Langara 17', 'has_image': True, 'geotag': (49.2302, -123.189), 'deleted': False}\n",
      "{'id': '7259468914', 'repost_of': '7135298927', 'name': 'Furnished one bedroom suite , with own washroom and kitchen', 'url': 'https://vancouver.craigslist.org/van/roo/d/vancouver-furnished-one-bedroom-suite/7259468914.html', 'datetime': '2021-01-09 10:38', 'last_updated': '2021-01-09 10:38', 'price': '$950', 'where': None, 'has_image': True, 'geotag': (49.25537, -123.039064), 'deleted': False}\n",
      "{'id': '7259452802', 'repost_of': '4667977378', 'name': 'Spotless ,Nice , Clean Room Only For Students On Cental Locaton', 'url': 'https://vancouver.craigslist.org/van/roo/d/vancouver-spotless-nice-clean-room-only/7259452802.html', 'datetime': '2021-01-09 10:38', 'last_updated': '2021-01-09 10:38', 'price': '$550', 'where': None, 'has_image': False, 'geotag': (49.240809, -123.02956), 'deleted': False}\n",
      "{'id': '7254118741', 'repost_of': None, 'name': '***Close to UBC, furnished suites incl. all utility,Wi-Fi for rent', 'url': 'https://vancouver.craigslist.org/van/roo/d/vancouver-close-to-ubc-furnished-suites/7254118741.html', 'datetime': '2021-01-09 10:37', 'last_updated': '2021-01-09 10:37', 'price': '$950', 'where': 'Dunbar Vancouver', 'has_image': True, 'geotag': (49.2302, -123.189), 'deleted': False}\n",
      "{'id': '7255061345', 'repost_of': '7237436656', 'name': 'Large room for rent', 'url': 'https://vancouver.craigslist.org/van/roo/d/vancouver-large-room-for-rent/7255061345.html', 'datetime': '2021-01-09 10:36', 'last_updated': '2021-01-09 10:36', 'price': '$740', 'where': 'Hastings sunrise', 'has_image': True, 'geotag': (49.280419, -123.029301), 'deleted': False}\n",
      "{'id': '7257038002', 'repost_of': None, 'name': 'Saba Rd, Richmond PRIVATE ROOM for rent', 'url': 'https://vancouver.craigslist.org/van/roo/d/richmond-saba-rd-richmond-private-room/7257038002.html', 'datetime': '2021-01-09 10:28', 'last_updated': '2021-01-09 10:28', 'price': '$1,050', 'where': '8238 Saba Rd, Richmond, BC V6Y 4C6, Canada', 'has_image': True, 'geotag': (49.168618, -123.134122), 'deleted': False}\n",
      "{'id': '7259452961', 'repost_of': None, 'name': 'by CanadaLine Station/ Langara college fully furnished 1 bdrm', 'url': 'https://vancouver.craigslist.org/van/roo/d/vancouver-by-canadaline-station-langara/7259452961.html', 'datetime': '2021-01-09 10:16', 'last_updated': '2021-01-09 10:16', 'price': '$570', 'where': 'Vancouver West/Langara/Oakridge', 'has_image': True, 'geotag': (49.225985, -123.110282), 'deleted': False}\n",
      "{'id': '7259448688', 'repost_of': None, 'name': 'Master bedroom with walk-in closet and private washroom near Langara', 'url': 'https://vancouver.craigslist.org/van/roo/d/vancouver-master-bedroom-with-walk-in/7259448688.html', 'datetime': '2021-01-09 10:10', 'last_updated': '2021-01-09 10:10', 'price': '$850', 'where': 'Sunset, Vancouver South', 'has_image': True, 'geotag': (49.220036, -123.096571), 'deleted': False}\n",
      "{'id': '7259448226', 'repost_of': '7258185088', 'name': 'Large Furnished Room', 'url': 'https://vancouver.craigslist.org/van/roo/d/vancouver-large-furnished-room/7259448226.html', 'datetime': '2021-01-09 10:09', 'last_updated': '2021-01-09 10:09', 'price': '$1,000', 'where': 'Downtown Vancouver', 'has_image': True, 'geotag': (49.299, -123.1408), 'deleted': False}\n",
      "{'id': '7259444973', 'repost_of': '7257339821', 'name': 'private room furnished  for Feb 1  girl only', 'url': 'https://vancouver.craigslist.org/van/roo/d/vancouver-private-room-furnished-for/7259444973.html', 'datetime': '2021-01-09 10:05', 'last_updated': '2021-01-09 10:05', 'price': '$580', 'where': 'main and 17th ave', 'has_image': True, 'geotag': (49.248, -123.0913), 'deleted': False}\n",
      "{'id': '7256810555', 'repost_of': None, 'name': 'March 1st Large furnished room near skytrain', 'url': 'https://vancouver.craigslist.org/van/roo/d/vancouver-march-1st-large-furnished/7256810555.html', 'datetime': '2021-01-09 10:02', 'last_updated': '2021-01-09 10:02', 'price': '$670', 'where': 'Vancouver', 'has_image': True, 'geotag': (49.2551, -123.0667), 'deleted': False}\n",
      "{'id': '7259431971', 'repost_of': '7144237460', 'name': 'Sweet house with awesome people in Kerrisdale Feb 1st', 'url': 'https://vancouver.craigslist.org/van/roo/d/vancouver-sweet-house-with-awesome/7259431971.html', 'datetime': '2021-01-09 09:56', 'last_updated': '2021-01-09 09:56', 'price': '$680', 'where': 'Vancouver, UBC, Kerrisdale', 'has_image': True, 'geotag': (49.232648, -123.1703), 'deleted': False}\n",
      "{'id': '7259433110', 'repost_of': '7188889501', 'name': 'Nice bright rooms close to UBC', 'url': 'https://vancouver.craigslist.org/van/roo/d/vancouver-nice-bright-rooms-close-to-ubc/7259433110.html', 'datetime': '2021-01-09 09:48', 'last_updated': '2021-01-09 09:48', 'price': '$675', 'where': 'Vancouver', 'has_image': True, 'geotag': (49.2302, -123.189), 'deleted': False}\n",
      "{'id': '7257401956', 'repost_of': None, 'name': 'rooms in a Penthouse on Robson， Big discount for the first few months', 'url': 'https://vancouver.craigslist.org/van/roo/d/vancouver-rooms-in-penthouse-on-robson/7257401956.html', 'datetime': '2021-01-09 09:46', 'last_updated': '2021-01-09 09:46', 'price': '$1,040', 'where': 'West End', 'has_image': True, 'geotag': (49.292071, -123.136398), 'deleted': False}\n",
      "{'id': '7259431316', 'repost_of': '7218948105', 'name': 'FEB 1st - Caretaker type for top floor large furn. rm', 'url': 'https://vancouver.craigslist.org/van/roo/d/vancouver-feb-1st-caretaker-type-for/7259431316.html', 'datetime': '2021-01-09 09:45', 'last_updated': '2021-01-09 09:45', 'price': '$700', 'where': 'Vancouver', 'has_image': True, 'geotag': (49.2327, -123.0917), 'deleted': False}\n",
      "{'id': '7259413674', 'repost_of': None, 'name': 'Suite available in semi-collective house - 10 mins from Metrotown', 'url': 'https://vancouver.craigslist.org/van/roo/d/burnaby-suite-available-in-semi/7259413674.html', 'datetime': '2021-01-09 09:44', 'last_updated': '2021-01-09 09:44', 'price': '$850', 'where': 'Burnaby', 'has_image': True, 'geotag': (49.221497, -123.009133), 'deleted': False}\n",
      "{'id': '7259426390', 'repost_of': '7119015729', 'name': '1 Bedroom Students/ Travellers/ Etc.', 'url': 'https://vancouver.craigslist.org/van/roo/d/vancouver-bedroom-students-travellers/7259426390.html', 'datetime': '2021-01-09 09:38', 'last_updated': '2021-01-09 09:38', 'price': '$500', 'where': 'Commercial drive', 'has_image': True, 'geotag': (49.269731, -123.064878), 'deleted': False}\n",
      "{'id': '7259425531', 'repost_of': '7248556440', 'name': 'Looking for a live in cleaner/organizer (Kerrisdale)', 'url': 'https://vancouver.craigslist.org/van/roo/d/vancouver-looking-for-live-in-cleaner/7259425531.html', 'datetime': '2021-01-09 09:36', 'last_updated': '2021-01-09 09:36', 'price': '$700', 'where': 'Vancouver', 'has_image': True, 'geotag': (49.2151, -123.1396), 'deleted': False}\n",
      "{'id': '7259421945', 'repost_of': '7190885707', 'name': 'Downtown Vancouver Room Rental Available now!!', 'url': 'https://vancouver.craigslist.org/van/roo/d/vancouver-downtown-vancouver-room/7259421945.html', 'datetime': '2021-01-09 09:36', 'last_updated': '2021-01-09 09:36', 'price': '$925', 'where': 'Downtown Vancouver', 'has_image': True, 'geotag': (49.2788, -123.1139), 'deleted': False}\n"
     ]
    },
    {
     "name": "stdout",
     "output_type": "stream",
     "text": [
      "{'id': '7259422975', 'repost_of': '7229669079', 'name': \"Fully Furn'd Student/Wrkr Rm Near Drive and Downtown\", 'url': 'https://vancouver.craigslist.org/van/roo/d/vancouver-fully-furnd-student-wrkr-rm/7259422975.html', 'datetime': '2021-01-09 09:33', 'last_updated': '2021-01-09 09:33', 'price': '$750', 'where': 'Vancouver', 'has_image': True, 'geotag': (49.2551, -123.0667), 'deleted': False}\n",
      "{'id': '7259420534', 'repost_of': '7224634677', 'name': \"Male wanted for Furn Rm in Reno'ed Character House Available Jan 15th\", 'url': 'https://vancouver.craigslist.org/van/roo/d/vancouver-male-wanted-for-furn-rm-in/7259420534.html', 'datetime': '2021-01-09 09:29', 'last_updated': '2021-01-09 09:29', 'price': '$725', 'where': 'Vancouver', 'has_image': True, 'geotag': (49.2327, -123.0917), 'deleted': False}\n",
      "{'id': '7259419818', 'repost_of': '7135969056', 'name': \"NOW or JAN 15th - Furn'd Large Bdrm in Central Loc. Cls to Can. Line\", 'url': 'https://vancouver.craigslist.org/van/roo/d/vancouver-now-or-jan-15th-furnd-large/7259419818.html', 'datetime': '2021-01-09 09:28', 'last_updated': '2021-01-09 09:28', 'price': '$800', 'where': 'Vancouver', 'has_image': True, 'geotag': (49.2327, -123.0917), 'deleted': False}\n",
      "{'id': '7257946962', 'repost_of': None, 'name': 'downtown condo solarium, furnished with utilities, available now', 'url': 'https://vancouver.craigslist.org/van/roo/d/vancouver-downtown-condo-solarium/7257946962.html', 'datetime': '2021-01-09 09:18', 'last_updated': '2021-01-09 09:18', 'price': '$795', 'where': 'downtown / yaletown', 'has_image': True, 'geotag': (49.280516, -123.118715), 'deleted': False}\n",
      "{'id': '7259412451', 'repost_of': '6796107202', 'name': 'Seeking Room-mate', 'url': 'https://vancouver.craigslist.org/van/roo/d/vancouver-seeking-room-mate/7259412451.html', 'datetime': '2021-01-09 09:17', 'last_updated': '2021-01-09 09:17', 'price': '$800', 'where': 'Joyce Collingwood', 'has_image': True, 'geotag': (49.2397, -123.0407), 'deleted': False}\n",
      "{'id': '7257857654', 'repost_of': None, 'name': 'downtown condo room, furnished with utilities, available now', 'url': 'https://vancouver.craigslist.org/van/roo/d/vancouver-downtown-condo-room-furnished/7257857654.html', 'datetime': '2021-01-09 09:17', 'last_updated': '2021-01-09 09:17', 'price': '$995', 'where': 'downtown / yaletown', 'has_image': True, 'geotag': (49.274523, -123.112236), 'deleted': False}\n",
      "{'id': '7259400787', 'repost_of': '7225480407', 'name': 'Nice-sized Bedroom in High-end Neighborhood', 'url': 'https://vancouver.craigslist.org/van/roo/d/vancouver-nice-sized-bedroom-in-high/7259400787.html', 'datetime': '2021-01-09 09:14', 'last_updated': '2021-01-09 09:14', 'price': '$700', 'where': 'Vancouver', 'has_image': True, 'geotag': (49.2151, -123.1396), 'deleted': False}\n",
      "{'id': '7259400307', 'repost_of': '7084691342', 'name': 'FEB 1st - Handy Guy Barter for Rent Furn. Lwr Room', 'url': 'https://vancouver.craigslist.org/van/roo/d/vancouver-feb-1st-handy-guy-barter-for/7259400307.html', 'datetime': '2021-01-09 09:10', 'last_updated': '2021-01-09 09:10', 'price': '$650', 'where': 'VANCOUVER', 'has_image': True, 'geotag': (49.2151, -123.1396), 'deleted': False}\n",
      "{'id': '7257888621', 'repost_of': '7247779548', 'name': 'Private Furnish room 5 min. walk to Langara/49th Skytrain.', 'url': 'https://vancouver.craigslist.org/van/roo/d/vancouver-private-furnish-room-min-walk/7257888621.html', 'datetime': '2021-01-09 09:09', 'last_updated': '2021-01-09 09:09', 'price': '$695', 'where': 'Langara/49th Skytrain/Vancouver', 'has_image': True, 'geotag': (49.227407, -123.115454), 'deleted': False}\n",
      "{'id': '7253107707', 'repost_of': '7087119779', 'name': 'Immediately or Feb 1st/ Great Room in Garden Suite of house', 'url': 'https://vancouver.craigslist.org/van/roo/d/vancouver-immediately-or-feb-1st-great/7253107707.html', 'datetime': '2021-01-09 09:09', 'last_updated': '2021-01-09 09:09', 'price': '$1,000', 'where': 'Fraser & Kingsway', 'has_image': True, 'geotag': (49.252778, -123.08567), 'deleted': False}\n",
      "{'id': '7259401289', 'repost_of': '7174585643', 'name': 'Bright Furn. Bdrm in safe high-end Neighborhood', 'url': 'https://vancouver.craigslist.org/van/roo/d/vancouver-bright-furn-bdrm-in-safe-high/7259401289.html', 'datetime': '2021-01-09 09:07', 'last_updated': '2021-01-09 09:07', 'price': '$700', 'where': 'Vancouver', 'has_image': True, 'geotag': (49.2151, -123.1396), 'deleted': False}\n",
      "{'id': '7256969633', 'repost_of': '7225484467', 'name': 'Furnished den&Solarium in luxury 2 bedroom 2 bathroom downtown', 'url': 'https://vancouver.craigslist.org/van/roo/d/vancouver-furnished-densolarium-in/7256969633.html', 'datetime': '2021-01-09 09:04', 'last_updated': '2021-01-09 09:04', 'price': '$750', 'where': 'Vancouver', 'has_image': True, 'geotag': (49.279074, -123.110578), 'deleted': False}\n",
      "{'id': '7247617834', 'repost_of': None, 'name': 'Private room in a shared unit', 'url': 'https://vancouver.craigslist.org/van/roo/d/vancouver-private-room-in-shared-unit/7247617834.html', 'datetime': '2021-01-09 09:02', 'last_updated': '2021-01-09 09:02', 'price': '$875', 'where': 'West end', 'has_image': True, 'geotag': (49.299, -123.1408), 'deleted': False}\n",
      "{'id': '7259401442', 'repost_of': '7157421695', 'name': 'Furnished large private rooms in vancouver', 'url': 'https://vancouver.craigslist.org/van/roo/d/vancouver-furnished-large-private-rooms/7259401442.html', 'datetime': '2021-01-09 09:02', 'last_updated': '2021-01-09 09:02', 'price': '$630', 'where': None, 'has_image': False, 'geotag': (49.2397, -123.0407), 'deleted': False}\n",
      "{'id': '7254843029', 'repost_of': None, 'name': 'Furnished room available in 3 br suite', 'url': 'https://vancouver.craigslist.org/van/roo/d/vancouver-furnished-room-available-in/7254843029.html', 'datetime': '2021-01-09 08:57', 'last_updated': '2021-01-09 08:57', 'price': '$750', 'where': 'East Vancouver', 'has_image': True, 'geotag': (49.248, -123.0913), 'deleted': False}\n",
      "{'id': '7259388960', 'repost_of': '7244909020', 'name': 'Nice 2nd floor bright room close to UBC', 'url': 'https://vancouver.craigslist.org/van/roo/d/vancouver-nice-2nd-floor-bright-room/7259388960.html', 'datetime': '2021-01-09 08:42', 'last_updated': '2021-01-09 08:42', 'price': '$725', 'where': 'Vancouver', 'has_image': True, 'geotag': (49.2302, -123.189), 'deleted': False}\n",
      "{'id': '7259387898', 'repost_of': '7217049657', 'name': 'Looking for a live in cleaner/organizer (Kerrisdale)', 'url': 'https://vancouver.craigslist.org/van/roo/d/vancouver-looking-for-live-in-cleaner/7259387898.html', 'datetime': '2021-01-09 08:40', 'last_updated': '2021-01-09 08:40', 'price': '$700', 'where': 'Vancouver', 'has_image': True, 'geotag': (49.2151, -123.1396), 'deleted': False}\n",
      "{'id': '7259386688', 'repost_of': '7089087101', 'name': \"Avail Now or Jan 15th Furn'd Rooms for  Students/Young Worker\", 'url': 'https://vancouver.craigslist.org/van/roo/d/vancouver-avail-now-or-jan-15th-furnd/7259386688.html', 'datetime': '2021-01-09 08:38', 'last_updated': '2021-01-09 08:38', 'price': '$650', 'where': 'VANCOUVER', 'has_image': True, 'geotag': (49.2302, -123.189), 'deleted': False}\n"
     ]
    },
    {
     "data": {
      "text/html": [
       "<div>\n",
       "<style scoped>\n",
       "    .dataframe tbody tr th:only-of-type {\n",
       "        vertical-align: middle;\n",
       "    }\n",
       "\n",
       "    .dataframe tbody tr th {\n",
       "        vertical-align: top;\n",
       "    }\n",
       "\n",
       "    .dataframe thead th {\n",
       "        text-align: right;\n",
       "    }\n",
       "</style>\n",
       "<table border=\"1\" class=\"dataframe\">\n",
       "  <thead>\n",
       "    <tr style=\"text-align: right;\">\n",
       "      <th></th>\n",
       "      <th>id</th>\n",
       "      <th>name</th>\n",
       "      <th>url</th>\n",
       "      <th>datetime</th>\n",
       "      <th>price</th>\n",
       "      <th>where</th>\n",
       "      <th>lat</th>\n",
       "      <th>long</th>\n",
       "    </tr>\n",
       "  </thead>\n",
       "  <tbody>\n",
       "    <tr>\n",
       "      <th>0</th>\n",
       "      <td>7253222080</td>\n",
       "      <td>Fully furnished room available in a shared bas...</td>\n",
       "      <td>https://vancouver.craigslist.org/van/roo/d/van...</td>\n",
       "      <td>2021-01-09 16:20</td>\n",
       "      <td>$700</td>\n",
       "      <td>Vancouver</td>\n",
       "      <td>49.215600</td>\n",
       "      <td>-123.097900</td>\n",
       "    </tr>\n",
       "    <tr>\n",
       "      <th>1</th>\n",
       "      <td>7255642766</td>\n",
       "      <td>Marine Dr. Near Superstore, Furnished, Utiliti...</td>\n",
       "      <td>https://vancouver.craigslist.org/van/roo/d/van...</td>\n",
       "      <td>2021-01-09 16:07</td>\n",
       "      <td>$640</td>\n",
       "      <td>South Vancouver</td>\n",
       "      <td>49.211836</td>\n",
       "      <td>-123.094597</td>\n",
       "    </tr>\n",
       "  </tbody>\n",
       "</table>\n",
       "</div>"
      ],
      "text/plain": [
       "           id                                               name  \\\n",
       "0  7253222080  Fully furnished room available in a shared bas...   \n",
       "1  7255642766  Marine Dr. Near Superstore, Furnished, Utiliti...   \n",
       "\n",
       "                                                 url          datetime price  \\\n",
       "0  https://vancouver.craigslist.org/van/roo/d/van...  2021-01-09 16:20  $700   \n",
       "1  https://vancouver.craigslist.org/van/roo/d/van...  2021-01-09 16:07  $640   \n",
       "\n",
       "             where        lat        long  \n",
       "0        Vancouver  49.215600 -123.097900  \n",
       "1  South Vancouver  49.211836 -123.094597  "
      ]
     },
     "execution_count": 50,
     "metadata": {},
     "output_type": "execute_result"
    }
   ],
   "source": [
    "count = 0\n",
    "for result in cl_h.get_results(sort_by='newest', geotagged=True):\n",
    "    print(result)\n",
    "    if (count > 100):\n",
    "        break\n",
    "    if (result.get('geotag') != None):\n",
    "        count += 1\n",
    "        new_row = {'id': result['id'], 'name': result['name'], 'url': result['url'], 'datetime': result['datetime'], 'price': result['price'], 'where': result['where'], 'lat': result['geotag'][0], 'long': result['geotag'][1]}\n",
    "        rentals = rentals.append(new_row, ignore_index=True)\n",
    "\n",
    "rentals.head(2)"
   ]
  },
  {
   "cell_type": "code",
   "execution_count": 51,
   "metadata": {},
   "outputs": [
    {
     "name": "stdout",
     "output_type": "stream",
     "text": [
      "             id                                               name  \\\n",
      "0    7253222080  Fully furnished room available in a shared bas...   \n",
      "1    7255642766  Marine Dr. Near Superstore, Furnished, Utiliti...   \n",
      "2    7254287696       Furnished room available Jan 15th or Feb 1st   \n",
      "3    7259653709                                      room for rent   \n",
      "4    7259652386                                   Bedroom for rent   \n",
      "..          ...                                                ...   \n",
      "96   7247617834                      Private room in a shared unit   \n",
      "97   7259401442         Furnished large private rooms in vancouver   \n",
      "98   7254843029             Furnished room available in 3 br suite   \n",
      "99   7259388960            Nice 2nd floor bright room close to UBC   \n",
      "100  7259387898  Looking for a live in cleaner/organizer (Kerri...   \n",
      "\n",
      "                                                   url          datetime  \\\n",
      "0    https://vancouver.craigslist.org/van/roo/d/van...  2021-01-09 16:20   \n",
      "1    https://vancouver.craigslist.org/van/roo/d/van...  2021-01-09 16:07   \n",
      "2    https://vancouver.craigslist.org/van/roo/d/chi...  2021-01-09 16:06   \n",
      "3    https://vancouver.craigslist.org/van/roo/d/van...  2021-01-09 16:02   \n",
      "4    https://vancouver.craigslist.org/van/roo/d/van...  2021-01-09 15:59   \n",
      "..                                                 ...               ...   \n",
      "96   https://vancouver.craigslist.org/van/roo/d/van...  2021-01-09 09:02   \n",
      "97   https://vancouver.craigslist.org/van/roo/d/van...  2021-01-09 09:02   \n",
      "98   https://vancouver.craigslist.org/van/roo/d/van...  2021-01-09 08:57   \n",
      "99   https://vancouver.craigslist.org/van/roo/d/van...  2021-01-09 08:42   \n",
      "100  https://vancouver.craigslist.org/van/roo/d/van...  2021-01-09 08:40   \n",
      "\n",
      "    price              where        lat        long  \n",
      "0    $700          Vancouver  49.215600 -123.097900  \n",
      "1    $640    South Vancouver  49.211836 -123.094597  \n",
      "2    $835        False Creek  49.264318 -123.121934  \n",
      "3    $530  knight st (at 43)  49.245411 -123.076270  \n",
      "4    $550          Vancouver  49.217500 -123.038000  \n",
      "..    ...                ...        ...         ...  \n",
      "96   $875           West end  49.299000 -123.140800  \n",
      "97   $630               None  49.239700 -123.040700  \n",
      "98   $750     East Vancouver  49.248000 -123.091300  \n",
      "99   $725          Vancouver  49.230200 -123.189000  \n",
      "100  $700          Vancouver  49.215100 -123.139600  \n",
      "\n",
      "[101 rows x 8 columns]\n"
     ]
    }
   ],
   "source": [
    "print (rentals)"
   ]
  },
  {
   "cell_type": "code",
   "execution_count": 52,
   "metadata": {},
   "outputs": [],
   "source": [
    "rentals.to_csv('rentals1.csv')"
   ]
  },
  {
   "cell_type": "code",
   "execution_count": null,
   "metadata": {},
   "outputs": [],
   "source": []
  }
 ],
 "metadata": {
  "kernelspec": {
   "display_name": "Python 3",
   "language": "python",
   "name": "python3"
  },
  "language_info": {
   "codemirror_mode": {
    "name": "ipython",
    "version": 3
   },
   "file_extension": ".py",
   "mimetype": "text/x-python",
   "name": "python",
   "nbconvert_exporter": "python",
   "pygments_lexer": "ipython3",
   "version": "3.6.9"
  }
 },
 "nbformat": 4,
 "nbformat_minor": 4
}
