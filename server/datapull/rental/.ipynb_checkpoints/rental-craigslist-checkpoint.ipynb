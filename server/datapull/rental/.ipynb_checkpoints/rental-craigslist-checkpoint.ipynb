{
 "cells": [
  {
   "cell_type": "code",
   "execution_count": 12,
   "metadata": {},
   "outputs": [],
   "source": [
    "import pandas as pd\n",
    "from craigslist import CraigslistHousing"
   ]
  },
  {
   "cell_type": "code",
   "execution_count": 13,
   "metadata": {},
   "outputs": [],
   "source": [
    "cl_h = CraigslistHousing(site='vancouver', area='van', category='roo',\n",
    "                         filters={'max_price': 1200, 'private_room': True})"
   ]
  },
  {
   "cell_type": "code",
   "execution_count": 14,
   "metadata": {},
   "outputs": [
    {
     "name": "stdout",
     "output_type": "stream",
     "text": [
      "1545\n"
     ]
    }
   ],
   "source": [
    "\n",
    "# You can get an approximate amount of results with the following call:\n",
    "print(cl_h.get_results_approx_count())"
   ]
  },
  {
   "cell_type": "code",
   "execution_count": 15,
   "metadata": {},
   "outputs": [],
   "source": [
    "rentals = pd.DataFrame(columns = ['id', 'name', 'url', 'datetime', 'price', 'where', 'lat', 'long'])"
   ]
  },
  {
   "cell_type": "code",
   "execution_count": 21,
   "metadata": {},
   "outputs": [
    {
     "name": "stdout",
     "output_type": "stream",
     "text": [
      "{'id': '7259653709', 'repost_of': '6715361915', 'name': 'room for rent', 'url': 'https://vancouver.craigslist.org/van/roo/d/vancouver-room-for-rent/7259653709.html', 'datetime': '2021-01-09 16:02', 'last_updated': '2021-01-09 16:02', 'price': '$530', 'where': 'knight st (at 43)', 'has_image': False, 'geotag': (49.245411, -123.07627), 'deleted': False}\n",
      "{'id': '7259652386', 'repost_of': None, 'name': 'Bedroom for rent', 'url': 'https://vancouver.craigslist.org/van/roo/d/vancouver-bedroom-for-rent/7259652386.html', 'datetime': '2021-01-09 15:59', 'last_updated': '2021-01-09 15:59', 'price': '$550', 'where': 'Vancouver', 'has_image': True, 'geotag': (49.2175, -123.038), 'deleted': False}\n",
      "{'id': '7259647111', 'repost_of': '7073133541', 'name': 'New luxury condo room for rent', 'url': 'https://vancouver.craigslist.org/van/roo/d/vancouver-new-luxury-condo-room-for-rent/7259647111.html', 'datetime': '2021-01-09 15:54', 'last_updated': '2021-01-09 15:54', 'price': '$900', 'where': 'Vancouver', 'has_image': True, 'geotag': (49.243184, -123.060982), 'deleted': False}\n",
      "{'id': '7259646140', 'repost_of': None, 'name': 'New house furnished rooms for rent', 'url': 'https://vancouver.craigslist.org/van/roo/d/vancouver-new-house-furnished-rooms-for/7259646140.html', 'datetime': '2021-01-09 15:44', 'last_updated': '2021-01-09 15:44', 'price': '$800', 'where': 'E 55 ave', 'has_image': True, 'geotag': (49.222, -123.0683), 'deleted': False}\n",
      "{'id': '7250718075', 'repost_of': '6189018796', 'name': 'Room for rent', 'url': 'https://vancouver.craigslist.org/van/roo/d/room-for-rent/7250718075.html', 'datetime': '2021-01-09 15:42', 'last_updated': '2021-01-09 15:42', 'price': '$600', 'where': 'est Vacouver', 'has_image': True, 'geotag': (49.23301, -123.025898), 'deleted': False}\n",
      "{'id': '7259639794', 'repost_of': '4493556283', 'name': '***Share Large Apt - 3 Bdrm  - West End  ****', 'url': 'https://vancouver.craigslist.org/van/roo/d/share-large-apt-bdrm-west-end/7259639794.html', 'datetime': '2021-01-09 15:39', 'last_updated': '2021-01-09 15:39', 'price': '$850', 'where': 'Pendrell & Nicola', 'has_image': False, 'geotag': None, 'deleted': False}\n"
     ]
    },
    {
     "ename": "TypeError",
     "evalue": "'NoneType' object is not subscriptable",
     "output_type": "error",
     "traceback": [
      "\u001b[0;31m---------------------------------------------------------------------------\u001b[0m",
      "\u001b[0;31mTypeError\u001b[0m                                 Traceback (most recent call last)",
      "\u001b[0;32m<ipython-input-21-e673e0d17fd3>\u001b[0m in \u001b[0;36m<module>\u001b[0;34m\u001b[0m\n\u001b[1;32m      1\u001b[0m \u001b[0;32mfor\u001b[0m \u001b[0mresult\u001b[0m \u001b[0;32min\u001b[0m \u001b[0mcl_h\u001b[0m\u001b[0;34m.\u001b[0m\u001b[0mget_results\u001b[0m\u001b[0;34m(\u001b[0m\u001b[0msort_by\u001b[0m\u001b[0;34m=\u001b[0m\u001b[0;34m'newest'\u001b[0m\u001b[0;34m,\u001b[0m \u001b[0mgeotagged\u001b[0m\u001b[0;34m=\u001b[0m\u001b[0;32mTrue\u001b[0m\u001b[0;34m)\u001b[0m\u001b[0;34m:\u001b[0m\u001b[0;34m\u001b[0m\u001b[0;34m\u001b[0m\u001b[0m\n\u001b[1;32m      2\u001b[0m     \u001b[0mprint\u001b[0m\u001b[0;34m(\u001b[0m\u001b[0mresult\u001b[0m\u001b[0;34m)\u001b[0m\u001b[0;34m\u001b[0m\u001b[0;34m\u001b[0m\u001b[0m\n\u001b[0;32m----> 3\u001b[0;31m     \u001b[0mrentals\u001b[0m\u001b[0;34m.\u001b[0m\u001b[0mappend\u001b[0m\u001b[0;34m(\u001b[0m\u001b[0;34m{\u001b[0m\u001b[0;34m'id'\u001b[0m\u001b[0;34m:\u001b[0m \u001b[0mresult\u001b[0m\u001b[0;34m[\u001b[0m\u001b[0;34m'id'\u001b[0m\u001b[0;34m]\u001b[0m\u001b[0;34m,\u001b[0m \u001b[0;34m'name'\u001b[0m\u001b[0;34m:\u001b[0m \u001b[0mresult\u001b[0m\u001b[0;34m[\u001b[0m\u001b[0;34m'name'\u001b[0m\u001b[0;34m]\u001b[0m\u001b[0;34m,\u001b[0m \u001b[0;34m'url'\u001b[0m\u001b[0;34m:\u001b[0m \u001b[0mresult\u001b[0m\u001b[0;34m[\u001b[0m\u001b[0;34m'url'\u001b[0m\u001b[0;34m]\u001b[0m\u001b[0;34m,\u001b[0m \u001b[0;34m'datetime'\u001b[0m\u001b[0;34m:\u001b[0m \u001b[0mresult\u001b[0m\u001b[0;34m[\u001b[0m\u001b[0;34m'datetime'\u001b[0m\u001b[0;34m]\u001b[0m\u001b[0;34m,\u001b[0m \u001b[0;34m'price'\u001b[0m\u001b[0;34m:\u001b[0m \u001b[0mresult\u001b[0m\u001b[0;34m[\u001b[0m\u001b[0;34m'price'\u001b[0m\u001b[0;34m]\u001b[0m\u001b[0;34m,\u001b[0m \u001b[0;34m'where'\u001b[0m\u001b[0;34m:\u001b[0m \u001b[0mresult\u001b[0m\u001b[0;34m[\u001b[0m\u001b[0;34m'where'\u001b[0m\u001b[0;34m]\u001b[0m\u001b[0;34m,\u001b[0m \u001b[0;34m'lat'\u001b[0m\u001b[0;34m:\u001b[0m \u001b[0mresult\u001b[0m\u001b[0;34m[\u001b[0m\u001b[0;34m'geotag'\u001b[0m\u001b[0;34m]\u001b[0m\u001b[0;34m[\u001b[0m\u001b[0;36m0\u001b[0m\u001b[0;34m]\u001b[0m\u001b[0;34m,\u001b[0m \u001b[0;34m'long'\u001b[0m\u001b[0;34m:\u001b[0m \u001b[0mresult\u001b[0m\u001b[0;34m[\u001b[0m\u001b[0;34m'geotag'\u001b[0m\u001b[0;34m]\u001b[0m\u001b[0;34m[\u001b[0m\u001b[0;36m1\u001b[0m\u001b[0;34m]\u001b[0m\u001b[0;34m}\u001b[0m\u001b[0;34m,\u001b[0m \u001b[0mignore_index\u001b[0m\u001b[0;34m=\u001b[0m\u001b[0;32mTrue\u001b[0m\u001b[0;34m)\u001b[0m\u001b[0;34m\u001b[0m\u001b[0;34m\u001b[0m\u001b[0m\n\u001b[0m",
      "\u001b[0;31mTypeError\u001b[0m: 'NoneType' object is not subscriptable"
     ]
    }
   ],
   "source": [
    "for result in cl_h.get_results(sort_by='newest', geotagged=True):\n",
    "    print(result)\n",
    "    if (result.get('geotag') != None)\n",
    "    rentals.append({'id': result['id'], 'name': result['name'], 'url': result['url'], 'datetime': result['datetime'], 'price': result['price'], 'where': result['where'], 'lat': result['geotag'][0], 'long': result['geotag'][1]}, ignore_index=True)"
   ]
  },
  {
   "cell_type": "code",
   "execution_count": null,
   "metadata": {},
   "outputs": [],
   "source": [
    "rentals.head(10)"
   ]
  }
 ],
 "metadata": {
  "kernelspec": {
   "display_name": "Python 3",
   "language": "python",
   "name": "python3"
  },
  "language_info": {
   "codemirror_mode": {
    "name": "ipython",
    "version": 3
   },
   "file_extension": ".py",
   "mimetype": "text/x-python",
   "name": "python",
   "nbconvert_exporter": "python",
   "pygments_lexer": "ipython3",
   "version": "3.6.9"
  }
 },
 "nbformat": 4,
 "nbformat_minor": 4
}
